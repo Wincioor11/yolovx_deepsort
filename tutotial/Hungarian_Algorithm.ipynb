{
 "cells": [
  {
   "cell_type": "markdown",
   "metadata": {},
   "source": [
    "@[toc]"
   ]
  },
  {
   "cell_type": "markdown",
   "metadata": {},
   "source": [
    "# 匈牙利算法（Hungarian Algorithm）\n",
    "目标跟踪初探（DeepSORT） - 知乎\n",
    "https://zhuanlan.zhihu.com/p/90835266"
   ]
  },
  {
   "cell_type": "markdown",
   "metadata": {},
   "source": [
    "假设现在有3个任务，要分别分配给3个人，每个人完成各个任务所需代价矩阵（cost matrix）如下所示（这个代价可以是金钱、时间等等）：\n"
   ]
  },
  {
   "cell_type": "code",
   "execution_count": 1,
   "metadata": {},
   "outputs": [
    {
     "name": "stdout",
     "output_type": "stream",
     "text": [
      "sklearn API result:\n",
      " [[0 1]\n",
      " [1 0]\n",
      " [2 2]]\n",
      "scipy API result:\n",
      " (array([0, 1, 2]), array([1, 0, 2]))\n"
     ]
    },
    {
     "name": "stderr",
     "output_type": "stream",
     "text": [
      "/workspace/pyEnv/nvidia-cuda10.0-cudnn7-devel-ubuntu18.04_py3.6/deep_sort_pytorch/lib/python3.6/site-packages/sklearn/utils/linear_assignment_.py:22: FutureWarning: The linear_assignment_ module is deprecated in 0.21 and will be removed from 0.23. Use scipy.optimize.linear_sum_assignment instead.\n",
      "  FutureWarning)\n",
      "/workspace/pyEnv/nvidia-cuda10.0-cudnn7-devel-ubuntu18.04_py3.6/deep_sort_pytorch/lib/python3.6/site-packages/sklearn/utils/linear_assignment_.py:128: FutureWarning: The linear_assignment function is deprecated in 0.21 and will be removed from 0.23. Use scipy.optimize.linear_sum_assignment instead.\n",
      "  FutureWarning)\n"
     ]
    },
    {
     "data": {
      "text/plain": [
       "'Outputs\\nsklearn API result:\\n [[0 1]         对应 0 行，1列      40\\n  [1 0]         对应 1 行，0列      20\\n  [2 2]]        对应 2 行，2列      25\\nscipy API result:\\n (array([0, 1, 2], dtype=int64), array([1, 0, 2], dtype=int64))\\n'"
      ]
     },
     "execution_count": 1,
     "metadata": {},
     "output_type": "execute_result"
    }
   ],
   "source": [
    "import numpy as np \n",
    "from sklearn.utils.linear_assignment_ import linear_assignment\n",
    "from scipy.optimize import linear_sum_assignment\n",
    " \n",
    "\n",
    "cost_matrix = np.array([\n",
    "    [15,40,45],\n",
    "    [20,60,35],\n",
    "    [20,40,25]\n",
    "])\n",
    " \n",
    "matches = linear_assignment(cost_matrix)\n",
    "print('sklearn API result:\\n', matches)\n",
    "matches = linear_sum_assignment(cost_matrix)\n",
    "print('scipy API result:\\n', matches)\n",
    " \n",
    "\n",
    "\"\"\"Outputs\n",
    "sklearn API result:\n",
    " [[0 1]         对应 0 行，1列      40\n",
    "  [1 0]         对应 1 行，0列      20\n",
    "  [2 2]]        对应 2 行，2列      25\n",
    "scipy API result:\n",
    " (array([0, 1, 2], dtype=int64), array([1, 0, 2], dtype=int64))\n",
    "\"\"\""
   ]
  },
  {
   "cell_type": "code",
   "execution_count": 4,
   "metadata": {},
   "outputs": [
    {
     "name": "stdout",
     "output_type": "stream",
     "text": [
      "[[15 40 45]\n",
      " [20 60 35]\n",
      " [20 40 25]]\n",
      "[0 1 2] [1 0 2]\n"
     ]
    }
   ],
   "source": [
    "print(cost_matrix)\n",
    "row, col = linear_sum_assignment(cost_matrix)\n",
    "print(row, col)"
   ]
  },
  {
   "cell_type": "code",
   "execution_count": 6,
   "metadata": {},
   "outputs": [
    {
     "name": "stdout",
     "output_type": "stream",
     "text": [
      "[0, 2, 4, 6, 8, 10, 12, 14, 16, 18]\n",
      "0 0\n",
      "1 2\n",
      "2 4\n",
      "3 6\n",
      "4 8\n",
      "5 10\n",
      "6 12\n",
      "7 14\n",
      "8 16\n",
      "9 18\n"
     ]
    }
   ],
   "source": [
    "a = [i for i in range(0,20,2)]\n",
    "print(a)\n",
    "for col, idx in enumerate(a):\n",
    "    print(col, idx)"
   ]
  }
 ],
 "metadata": {
  "interpreter": {
   "hash": "bd6a6c60dade43b69853fa3d1a911c7f31b7e679808dd68aeee5439bc9df2c90"
  },
  "kernelspec": {
   "display_name": "Python 3.6.9 64-bit ('deep_sort_pytorch': venv)",
   "language": "python",
   "name": "python3"
  },
  "language_info": {
   "codemirror_mode": {
    "name": "ipython",
    "version": 3
   },
   "file_extension": ".py",
   "mimetype": "text/x-python",
   "name": "python",
   "nbconvert_exporter": "python",
   "pygments_lexer": "ipython3",
   "version": "3.6.9"
  },
  "orig_nbformat": 4
 },
 "nbformat": 4,
 "nbformat_minor": 2
}
